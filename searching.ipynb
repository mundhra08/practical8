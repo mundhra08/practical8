{
  "nbformat": 4,
  "nbformat_minor": 0,
  "metadata": {
    "colab": {
      "name": "searching.ipynb",
      "provenance": [],
      "collapsed_sections": [],
      "authorship_tag": "ABX9TyMSjcwRqTi/rd84AmVcqhPc",
      "include_colab_link": true
    },
    "kernelspec": {
      "display_name": "Python 3",
      "name": "python3"
    },
    "language_info": {
      "name": "python"
    }
  },
  "cells": [
    {
      "cell_type": "markdown",
      "metadata": {
        "id": "view-in-github",
        "colab_type": "text"
      },
      "source": [
        "<a href=\"https://colab.research.google.com/github/mundhra08/practical8/blob/main/searching.ipynb\" target=\"_parent\"><img src=\"https://colab.research.google.com/assets/colab-badge.svg\" alt=\"Open In Colab\"/></a>"
      ]
    },
    {
      "cell_type": "code",
      "metadata": {
        "id": "bkbCz7yvN0xL",
        "colab": {
          "base_uri": "https://localhost:8080/",
          "height": 197
        },
        "outputId": "d52484d8-3993-4225-a2a6-b29912c567ca"
      },
      "source": [
        "import array as arr\n",
        "def accept_roll():\n",
        "  a=arr.array('I',[])\n",
        "  no_stud=int(input(\"enter the no. of students: \"))\n",
        "  roll_no=int(input(\"enter the roll no.: \"))\n",
        "  for i in range(0,no_stud):\n",
        "    a.append(roll_no)\n",
        "  return a\n",
        "\n",
        "def print_roll(a):\n",
        "    for i in range(0,len(a)):\n",
        "      print(\"\\t\",a[i],end=\" \")\n",
        "      print()\n",
        "\n",
        "def linear_search(a,x):\n",
        "\n",
        "  for i in range(len(a)):\n",
        "    if a[i]==x:\n",
        "      return i\n",
        "     \n",
        "  return -1\n",
        "\n",
        "def sentinel_search(a,x):\n",
        "  count=len(a)\n",
        "  a.append\n",
        "  i=0\n",
        "\n",
        "  while a[i]!=x:\n",
        "    i=i+1\n",
        "\n",
        "  if i!=count:\n",
        "    return i\n",
        "  else:\n",
        "    return -1  \n",
        "\n",
        "linear_search(a,x)\n"
      ],
      "execution_count": null,
      "outputs": [
        {
          "output_type": "error",
          "ename": "NameError",
          "evalue": "ignored",
          "traceback": [
            "\u001b[0;31m---------------------------------------------------------------------------\u001b[0m",
            "\u001b[0;31mNameError\u001b[0m                                 Traceback (most recent call last)",
            "\u001b[0;32m<ipython-input-57-5864bbfa4da1>\u001b[0m in \u001b[0;36m<module>\u001b[0;34m()\u001b[0m\n\u001b[1;32m     34\u001b[0m     \u001b[0;32mreturn\u001b[0m \u001b[0;34m-\u001b[0m\u001b[0;36m1\u001b[0m\u001b[0;34m\u001b[0m\u001b[0;34m\u001b[0m\u001b[0m\n\u001b[1;32m     35\u001b[0m \u001b[0;34m\u001b[0m\u001b[0m\n\u001b[0;32m---> 36\u001b[0;31m \u001b[0mlinear_search\u001b[0m\u001b[0;34m(\u001b[0m\u001b[0ma\u001b[0m\u001b[0;34m,\u001b[0m\u001b[0mx\u001b[0m\u001b[0;34m)\u001b[0m\u001b[0;34m\u001b[0m\u001b[0;34m\u001b[0m\u001b[0m\n\u001b[0m",
            "\u001b[0;31mNameError\u001b[0m: name 'a' is not defined"
          ]
        }
      ]
    }
  ]
}